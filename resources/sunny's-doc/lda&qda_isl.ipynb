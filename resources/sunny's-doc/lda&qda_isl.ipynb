{
 "cells": [
  {
   "cell_type": "code",
   "execution_count": 18,
   "id": "b358f584",
   "metadata": {},
   "outputs": [],
   "source": [
    "import matplotlib.pyplot as plt\n",
    "import numpy as np\n",
    "import seaborn as sns\n",
    "import pandas as pd\n",
    "import math"
   ]
  },
  {
   "cell_type": "code",
   "execution_count": 104,
   "id": "07387990",
   "metadata": {},
   "outputs": [
    {
     "data": {
      "text/html": [
       "<div>\n",
       "<style scoped>\n",
       "    .dataframe tbody tr th:only-of-type {\n",
       "        vertical-align: middle;\n",
       "    }\n",
       "\n",
       "    .dataframe tbody tr th {\n",
       "        vertical-align: top;\n",
       "    }\n",
       "\n",
       "    .dataframe thead th {\n",
       "        text-align: right;\n",
       "    }\n",
       "</style>\n",
       "<table border=\"1\" class=\"dataframe\">\n",
       "  <thead>\n",
       "    <tr style=\"text-align: right;\">\n",
       "      <th></th>\n",
       "      <th>X</th>\n",
       "      <th>Y</th>\n",
       "      <th>Class</th>\n",
       "    </tr>\n",
       "  </thead>\n",
       "  <tbody>\n",
       "    <tr>\n",
       "      <th>0</th>\n",
       "      <td>0.124387</td>\n",
       "      <td>0.0</td>\n",
       "      <td>0.0</td>\n",
       "    </tr>\n",
       "    <tr>\n",
       "      <th>1</th>\n",
       "      <td>-0.043436</td>\n",
       "      <td>0.0</td>\n",
       "      <td>0.0</td>\n",
       "    </tr>\n",
       "    <tr>\n",
       "      <th>2</th>\n",
       "      <td>0.047117</td>\n",
       "      <td>0.0</td>\n",
       "      <td>0.0</td>\n",
       "    </tr>\n",
       "    <tr>\n",
       "      <th>3</th>\n",
       "      <td>-0.013993</td>\n",
       "      <td>0.0</td>\n",
       "      <td>0.0</td>\n",
       "    </tr>\n",
       "    <tr>\n",
       "      <th>4</th>\n",
       "      <td>0.176213</td>\n",
       "      <td>0.0</td>\n",
       "      <td>0.0</td>\n",
       "    </tr>\n",
       "    <tr>\n",
       "      <th>5</th>\n",
       "      <td>0.096967</td>\n",
       "      <td>0.0</td>\n",
       "      <td>0.0</td>\n",
       "    </tr>\n",
       "    <tr>\n",
       "      <th>6</th>\n",
       "      <td>-0.145880</td>\n",
       "      <td>0.0</td>\n",
       "      <td>0.0</td>\n",
       "    </tr>\n",
       "    <tr>\n",
       "      <th>7</th>\n",
       "      <td>0.025367</td>\n",
       "      <td>0.0</td>\n",
       "      <td>0.0</td>\n",
       "    </tr>\n",
       "    <tr>\n",
       "      <th>8</th>\n",
       "      <td>0.114637</td>\n",
       "      <td>0.0</td>\n",
       "      <td>0.0</td>\n",
       "    </tr>\n",
       "    <tr>\n",
       "      <th>9</th>\n",
       "      <td>-0.012688</td>\n",
       "      <td>0.0</td>\n",
       "      <td>0.0</td>\n",
       "    </tr>\n",
       "    <tr>\n",
       "      <th>10</th>\n",
       "      <td>0.559468</td>\n",
       "      <td>0.0</td>\n",
       "      <td>1.0</td>\n",
       "    </tr>\n",
       "    <tr>\n",
       "      <th>11</th>\n",
       "      <td>0.309948</td>\n",
       "      <td>0.0</td>\n",
       "      <td>1.0</td>\n",
       "    </tr>\n",
       "    <tr>\n",
       "      <th>12</th>\n",
       "      <td>0.591259</td>\n",
       "      <td>0.0</td>\n",
       "      <td>1.0</td>\n",
       "    </tr>\n",
       "    <tr>\n",
       "      <th>13</th>\n",
       "      <td>0.369918</td>\n",
       "      <td>0.0</td>\n",
       "      <td>1.0</td>\n",
       "    </tr>\n",
       "    <tr>\n",
       "      <th>14</th>\n",
       "      <td>0.427790</td>\n",
       "      <td>0.0</td>\n",
       "      <td>1.0</td>\n",
       "    </tr>\n",
       "    <tr>\n",
       "      <th>15</th>\n",
       "      <td>0.518319</td>\n",
       "      <td>0.0</td>\n",
       "      <td>1.0</td>\n",
       "    </tr>\n",
       "    <tr>\n",
       "      <th>16</th>\n",
       "      <td>0.470843</td>\n",
       "      <td>0.0</td>\n",
       "      <td>1.0</td>\n",
       "    </tr>\n",
       "    <tr>\n",
       "      <th>17</th>\n",
       "      <td>0.615046</td>\n",
       "      <td>0.0</td>\n",
       "      <td>1.0</td>\n",
       "    </tr>\n",
       "    <tr>\n",
       "      <th>18</th>\n",
       "      <td>0.527535</td>\n",
       "      <td>0.0</td>\n",
       "      <td>1.0</td>\n",
       "    </tr>\n",
       "    <tr>\n",
       "      <th>19</th>\n",
       "      <td>0.545385</td>\n",
       "      <td>0.0</td>\n",
       "      <td>1.0</td>\n",
       "    </tr>\n",
       "  </tbody>\n",
       "</table>\n",
       "</div>"
      ],
      "text/plain": [
       "           X    Y  Class\n",
       "0   0.124387  0.0    0.0\n",
       "1  -0.043436  0.0    0.0\n",
       "2   0.047117  0.0    0.0\n",
       "3  -0.013993  0.0    0.0\n",
       "4   0.176213  0.0    0.0\n",
       "5   0.096967  0.0    0.0\n",
       "6  -0.145880  0.0    0.0\n",
       "7   0.025367  0.0    0.0\n",
       "8   0.114637  0.0    0.0\n",
       "9  -0.012688  0.0    0.0\n",
       "10  0.559468  0.0    1.0\n",
       "11  0.309948  0.0    1.0\n",
       "12  0.591259  0.0    1.0\n",
       "13  0.369918  0.0    1.0\n",
       "14  0.427790  0.0    1.0\n",
       "15  0.518319  0.0    1.0\n",
       "16  0.470843  0.0    1.0\n",
       "17  0.615046  0.0    1.0\n",
       "18  0.527535  0.0    1.0\n",
       "19  0.545385  0.0    1.0"
      ]
     },
     "execution_count": 104,
     "metadata": {},
     "output_type": "execute_result"
    }
   ],
   "source": [
    "df = pd.DataFrame(columns=[\"X\" , \"Y\" , \"Class\"])\n",
    "\n",
    "K = 2\n",
    "\n",
    "means = [0 , 0.5]\n",
    "std = 0.1\n",
    "pi = []\n",
    "\n",
    "for k in range(K):\n",
    "    N = 10\n",
    "    pi.append(1 / K)\n",
    "    X = np.random.normal(loc = means[k] , scale = std , size = N)\n",
    "    for i in range(N):\n",
    "        df.loc[len(df)] = [X[i] , 0 , k]\n",
    "\n",
    "df"
   ]
  },
  {
   "cell_type": "code",
   "execution_count": 105,
   "id": "c6acf86d",
   "metadata": {},
   "outputs": [
    {
     "data": {
      "text/plain": [
       "<Axes: xlabel='X', ylabel='Count'>"
      ]
     },
     "execution_count": 105,
     "metadata": {},
     "output_type": "execute_result"
    },
    {
     "data": {
      "image/png": "[encoded data removed]",
      "text/plain": [
       "<Figure size 640x480 with 1 Axes>"
      ]
     },
     "metadata": {},
     "output_type": "display_data"
    }
   ],
   "source": [
    "sns.histplot(data = df , x='X' , hue = \"Class\" , bins=6)"
   ]
  },
  {
   "cell_type": "code",
   "execution_count": 106,
   "id": "2c80551e",
   "metadata": {},
   "outputs": [
    {
     "data": {
      "text/plain": [
       "<Axes: xlabel='X', ylabel='Y'>"
      ]
     },
     "execution_count": 106,
     "metadata": {},
     "output_type": "execute_result"
    },
    {
     "data": {
      "image/png": "[encoded data removed]",
      "text/plain": [
       "<Figure size 640x480 with 1 Axes>"
      ]
     },
     "metadata": {},
     "output_type": "display_data"
    }
   ],
   "source": [
    "sns.scatterplot(data=df , x ='X' , y = 'Y' , hue = 'Class' , alpha = 0.5)"
   ]
  },
  {
   "cell_type": "markdown",
   "id": "c28ff6c7",
   "metadata": {},
   "source": [
    "- 2 Classes are generated with the same standard deviation but different mean."
   ]
  },
  {
   "cell_type": "code",
   "execution_count": 107,
   "id": "69621afe",
   "metadata": {},
   "outputs": [],
   "source": [
    "PI = math.pi\n",
    "sigma = std\n",
    "\n",
    "def f(k , x): # The LDA equation for p = 1\n",
    "    return (1 / math.sqrt(2 * PI * sigma * sigma)) * math.exp(-(1/(2 * sigma * sigma)) * (x - means[k]) ** 2)"
   ]
  },
  {
   "cell_type": "markdown",
   "id": "4f73ebc0",
   "metadata": {},
   "source": [
    "- With the $f_k(x)$ function above, we can calculate the probability that $x$ falls into class $k$."
   ]
  },
  {
   "cell_type": "code",
   "execution_count": 111,
   "id": "1061f8b8",
   "metadata": {},
   "outputs": [
    {
     "name": "stdout",
     "output_type": "stream",
     "text": [
      "Probability that x would fall in class 0 = 99.99962733607158%\n",
      "Probability that x would fall in class 1 = 0.0003726639284186568%\n"
     ]
    }
   ],
   "source": [
    "x = 0\n",
    "\n",
    "total = 0\n",
    "for k in range(K):\n",
    "    total += pi[k] * f(k , x)\n",
    "\n",
    "for k in range(K):\n",
    "    prob = pi[k] * f(k , x)\n",
    "    prob /= total\n",
    "    print(\"Probability that x would fall in class \" , k , \" = \" , prob * 100 , \"%\" , sep=\"\")"
   ]
  },
  {
   "cell_type": "markdown",
   "id": "b5087b27",
   "metadata": {},
   "source": [
    "- For the result above, it's too obvious that $x = 0$ will falls into the first class.\n",
    "- Lets make another example but less obvious."
   ]
  },
  {
   "cell_type": "code",
   "execution_count": 115,
   "id": "c9eb242e",
   "metadata": {},
   "outputs": [
    {
     "name": "stdout",
     "output_type": "stream",
     "text": [
      "Probability that x would fall in class 0 = 26.894142136999495%\n",
      "Probability that x would fall in class 1 = 73.1058578630005%\n"
     ]
    }
   ],
   "source": [
    "x = 0.27\n",
    "\n",
    "total = 0\n",
    "for k in range(K):\n",
    "    total += pi[k] * f(k , x)\n",
    "\n",
    "for k in range(K):\n",
    "    prob = pi[k] * f(k , x)\n",
    "    prob /= total\n",
    "    print(\"Probability that x would fall in class \" , k , \" = \" , prob * 100 , \"%\" , sep=\"\")"
   ]
  },
  {
   "cell_type": "markdown",
   "id": "2de04b77",
   "metadata": {},
   "source": [
    "- Here, we see that the point $x = 0.27$ is somewhere in the middle of 2 classes. The LDA model predicts that $x$ fits best for the second class as the probability ~ 73.1%."
   ]
  }
 ],
 "metadata": {
  "kernelspec": {
   "display_name": "Python 3",
   "language": "python",
   "name": "python3"
  },
  "language_info": {
   "codemirror_mode": {
    "name": "ipython",
    "version": 3
   },
   "file_extension": ".py",
   "mimetype": "text/x-python",
   "name": "python",
   "nbconvert_exporter": "python",
   "pygments_lexer": "ipython3",
   "version": "3.13.7"
  }
 },
 "nbformat": 4,
 "nbformat_minor": 5
}

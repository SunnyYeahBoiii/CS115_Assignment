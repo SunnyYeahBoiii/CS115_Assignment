{
 "cells": [
  {
   "cell_type": "code",
   "execution_count": 18,
   "id": "b358f584",
   "metadata": {},
   "outputs": [],
   "source": [
    "import matplotlib.pyplot as plt\n",
    "import numpy as np\n",
    "import seaborn as sns\n",
    "import pandas as pd\n",
    "import math"
   ]
  },
  {
   "cell_type": "code",
   "execution_count": 81,
   "id": "07387990",
   "metadata": {},
   "outputs": [
    {
     "data": {
      "text/html": [
       "<div>\n",
       "<style scoped>\n",
       "    .dataframe tbody tr th:only-of-type {\n",
       "        vertical-align: middle;\n",
       "    }\n",
       "\n",
       "    .dataframe tbody tr th {\n",
       "        vertical-align: top;\n",
       "    }\n",
       "\n",
       "    .dataframe thead th {\n",
       "        text-align: right;\n",
       "    }\n",
       "</style>\n",
       "<table border=\"1\" class=\"dataframe\">\n",
       "  <thead>\n",
       "    <tr style=\"text-align: right;\">\n",
       "      <th></th>\n",
       "      <th>X</th>\n",
       "      <th>Y</th>\n",
       "      <th>Class</th>\n",
       "    </tr>\n",
       "  </thead>\n",
       "  <tbody>\n",
       "    <tr>\n",
       "      <th>0</th>\n",
       "      <td>0.475058</td>\n",
       "      <td>0.0</td>\n",
       "      <td>0.0</td>\n",
       "    </tr>\n",
       "    <tr>\n",
       "      <th>1</th>\n",
       "      <td>0.069451</td>\n",
       "      <td>0.0</td>\n",
       "      <td>0.0</td>\n",
       "    </tr>\n",
       "    <tr>\n",
       "      <th>2</th>\n",
       "      <td>0.127660</td>\n",
       "      <td>0.0</td>\n",
       "      <td>0.0</td>\n",
       "    </tr>\n",
       "    <tr>\n",
       "      <th>3</th>\n",
       "      <td>-0.178102</td>\n",
       "      <td>0.0</td>\n",
       "      <td>0.0</td>\n",
       "    </tr>\n",
       "    <tr>\n",
       "      <th>4</th>\n",
       "      <td>-0.120497</td>\n",
       "      <td>0.0</td>\n",
       "      <td>0.0</td>\n",
       "    </tr>\n",
       "    <tr>\n",
       "      <th>5</th>\n",
       "      <td>-0.311425</td>\n",
       "      <td>0.0</td>\n",
       "      <td>0.0</td>\n",
       "    </tr>\n",
       "    <tr>\n",
       "      <th>6</th>\n",
       "      <td>0.103107</td>\n",
       "      <td>0.0</td>\n",
       "      <td>0.0</td>\n",
       "    </tr>\n",
       "    <tr>\n",
       "      <th>7</th>\n",
       "      <td>0.280287</td>\n",
       "      <td>0.0</td>\n",
       "      <td>0.0</td>\n",
       "    </tr>\n",
       "    <tr>\n",
       "      <th>8</th>\n",
       "      <td>0.199911</td>\n",
       "      <td>0.0</td>\n",
       "      <td>0.0</td>\n",
       "    </tr>\n",
       "    <tr>\n",
       "      <th>9</th>\n",
       "      <td>0.278401</td>\n",
       "      <td>0.0</td>\n",
       "      <td>0.0</td>\n",
       "    </tr>\n",
       "    <tr>\n",
       "      <th>10</th>\n",
       "      <td>0.188746</td>\n",
       "      <td>0.0</td>\n",
       "      <td>1.0</td>\n",
       "    </tr>\n",
       "    <tr>\n",
       "      <th>11</th>\n",
       "      <td>0.649860</td>\n",
       "      <td>0.0</td>\n",
       "      <td>1.0</td>\n",
       "    </tr>\n",
       "    <tr>\n",
       "      <th>12</th>\n",
       "      <td>0.018711</td>\n",
       "      <td>0.0</td>\n",
       "      <td>1.0</td>\n",
       "    </tr>\n",
       "    <tr>\n",
       "      <th>13</th>\n",
       "      <td>0.473393</td>\n",
       "      <td>0.0</td>\n",
       "      <td>1.0</td>\n",
       "    </tr>\n",
       "    <tr>\n",
       "      <th>14</th>\n",
       "      <td>0.550710</td>\n",
       "      <td>0.0</td>\n",
       "      <td>1.0</td>\n",
       "    </tr>\n",
       "    <tr>\n",
       "      <th>15</th>\n",
       "      <td>0.063373</td>\n",
       "      <td>0.0</td>\n",
       "      <td>1.0</td>\n",
       "    </tr>\n",
       "    <tr>\n",
       "      <th>16</th>\n",
       "      <td>0.207303</td>\n",
       "      <td>0.0</td>\n",
       "      <td>1.0</td>\n",
       "    </tr>\n",
       "    <tr>\n",
       "      <th>17</th>\n",
       "      <td>0.234904</td>\n",
       "      <td>0.0</td>\n",
       "      <td>1.0</td>\n",
       "    </tr>\n",
       "    <tr>\n",
       "      <th>18</th>\n",
       "      <td>0.445252</td>\n",
       "      <td>0.0</td>\n",
       "      <td>1.0</td>\n",
       "    </tr>\n",
       "    <tr>\n",
       "      <th>19</th>\n",
       "      <td>0.430261</td>\n",
       "      <td>0.0</td>\n",
       "      <td>1.0</td>\n",
       "    </tr>\n",
       "  </tbody>\n",
       "</table>\n",
       "</div>"
      ],
      "text/plain": [
       "           X    Y  Class\n",
       "0   0.475058  0.0    0.0\n",
       "1   0.069451  0.0    0.0\n",
       "2   0.127660  0.0    0.0\n",
       "3  -0.178102  0.0    0.0\n",
       "4  -0.120497  0.0    0.0\n",
       "5  -0.311425  0.0    0.0\n",
       "6   0.103107  0.0    0.0\n",
       "7   0.280287  0.0    0.0\n",
       "8   0.199911  0.0    0.0\n",
       "9   0.278401  0.0    0.0\n",
       "10  0.188746  0.0    1.0\n",
       "11  0.649860  0.0    1.0\n",
       "12  0.018711  0.0    1.0\n",
       "13  0.473393  0.0    1.0\n",
       "14  0.550710  0.0    1.0\n",
       "15  0.063373  0.0    1.0\n",
       "16  0.207303  0.0    1.0\n",
       "17  0.234904  0.0    1.0\n",
       "18  0.445252  0.0    1.0\n",
       "19  0.430261  0.0    1.0"
      ]
     },
     "execution_count": 81,
     "metadata": {},
     "output_type": "execute_result"
    }
   ],
   "source": [
    "df = pd.DataFrame(columns=[\"X\" , \"Y\" , \"Class\"])\n",
    "\n",
    "K = 2\n",
    "\n",
    "means = [0 , 0.5]\n",
    "std = 0.2\n",
    "pi = []\n",
    "\n",
    "for k in range(K):\n",
    "    N = 10\n",
    "    pi.append(1 / K)\n",
    "    X = np.random.normal(loc = means[k] , scale = std , size = N)\n",
    "    for i in range(N):\n",
    "        df.loc[len(df)] = [X[i] , 0 , k]\n",
    "\n",
    "df"
   ]
  },
  {
   "cell_type": "code",
   "execution_count": 82,
   "id": "c6acf86d",
   "metadata": {},
   "outputs": [
    {
     "data": {
      "text/plain": [
       "<Axes: xlabel='X', ylabel='Count'>"
      ]
     },
     "execution_count": 82,
     "metadata": {},
     "output_type": "execute_result"
    },
    {
     "data": {
      "image/png": "[encoded data removed]",
      "text/plain": [
       "<Figure size 640x480 with 1 Axes>"
      ]
     },
     "metadata": {},
     "output_type": "display_data"
    }
   ],
   "source": [
    "sns.histplot(data = df , x='X' , hue = \"Class\")"
   ]
  },
  {
   "cell_type": "markdown",
   "id": "c28ff6c7",
   "metadata": {},
   "source": [
    "- 2 Classes are generated with the same standard deviation but different mean."
   ]
  },
  {
   "cell_type": "code",
   "execution_count": 83,
   "id": "69621afe",
   "metadata": {},
   "outputs": [],
   "source": [
    "PI = math.pi\n",
    "sigma = std ** 2\n",
    "\n",
    "def f(k , x): # The LDA equation for p = 1\n",
    "    return (1 / math.sqrt(2 * PI)) * math.exp(-(1/(2 * sigma * sigma)) * (x - means[k]) ** 2)"
   ]
  },
  {
   "cell_type": "markdown",
   "id": "4f73ebc0",
   "metadata": {},
   "source": [
    "- With the $f_k(x)$ function above, we can calculate the probability that $x$ falls into class $k$."
   ]
  },
  {
   "cell_type": "code",
   "execution_count": 88,
   "id": "1061f8b8",
   "metadata": {},
   "outputs": [
    {
     "name": "stdout",
     "output_type": "stream",
     "text": [
      "Probability that x would fall in class 0 = 100.0%\n",
      "Probability that x would fall in class 1 = 8.459378991221933e-60%\n"
     ]
    }
   ],
   "source": [
    "x = -0.2\n",
    "\n",
    "total = 0\n",
    "for k in range(K):\n",
    "    total += pi[k] * f(k , x)\n",
    "\n",
    "for k in range(K):\n",
    "    prob = pi[k] * f(k , x)\n",
    "    prob /= total\n",
    "    print(\"Probability that x would fall in class \" , k , \" = \" , prob * 100 , \"%\" , sep=\"\")"
   ]
  },
  {
   "cell_type": "markdown",
   "id": "b5087b27",
   "metadata": {},
   "source": [
    "- For the result above, it's too obvious that "
   ]
  }
 ],
 "metadata": {
  "kernelspec": {
   "display_name": "Python 3",
   "language": "python",
   "name": "python3"
  },
  "language_info": {
   "codemirror_mode": {
    "name": "ipython",
    "version": 3
   },
   "file_extension": ".py",
   "mimetype": "text/x-python",
   "name": "python",
   "nbconvert_exporter": "python",
   "pygments_lexer": "ipython3",
   "version": "3.13.7"
  }
 },
 "nbformat": 4,
 "nbformat_minor": 5
}
